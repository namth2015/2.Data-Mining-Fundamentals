{
 "cells": [
  {
   "cell_type": "code",
   "execution_count": null,
   "id": "3914bf9e",
   "metadata": {},
   "outputs": [],
   "source": [
    "# 2.Data Mining Fundamentals"
   ]
  },
  {
   "cell_type": "code",
   "execution_count": null,
   "id": "072b8ed7",
   "metadata": {},
   "outputs": [],
   "source": [
    "# Section 2.1 Cluster analysis"
   ]
  },
  {
   "cell_type": "code",
   "execution_count": 297,
   "id": "520524ff",
   "metadata": {},
   "outputs": [],
   "source": [
    "import pandas as pd \n",
    "import seaborn as sns \n",
    "import numpy as np \n",
    "import matplotlib.pyplot as plt  \n",
    "from sklearn.cluster import KMeans \n",
    "%matplotlib  inline "
   ]
  },
  {
   "cell_type": "code",
   "execution_count": 298,
   "id": "0475f4eb",
   "metadata": {},
   "outputs": [],
   "source": [
    "df = pd.read_csv('single_family_home_values.csv') # đưa vào trong thư mục đã tạo trong python thì mới đọc được kiểu này"
   ]
  },
  {
   "cell_type": "code",
   "execution_count": 299,
   "id": "4b5881ec",
   "metadata": {},
   "outputs": [
    {
     "data": {
      "text/html": [
       "<div>\n",
       "<style scoped>\n",
       "    .dataframe tbody tr th:only-of-type {\n",
       "        vertical-align: middle;\n",
       "    }\n",
       "\n",
       "    .dataframe tbody tr th {\n",
       "        vertical-align: top;\n",
       "    }\n",
       "\n",
       "    .dataframe thead th {\n",
       "        text-align: right;\n",
       "    }\n",
       "</style>\n",
       "<table border=\"1\" class=\"dataframe\">\n",
       "  <thead>\n",
       "    <tr style=\"text-align: right;\">\n",
       "      <th></th>\n",
       "      <th>id</th>\n",
       "      <th>address</th>\n",
       "      <th>city</th>\n",
       "      <th>state</th>\n",
       "      <th>zipcode</th>\n",
       "      <th>latitude</th>\n",
       "      <th>longitude</th>\n",
       "      <th>bedrooms</th>\n",
       "      <th>bathrooms</th>\n",
       "      <th>rooms</th>\n",
       "      <th>squareFootage</th>\n",
       "      <th>lotSize</th>\n",
       "      <th>yearBuilt</th>\n",
       "      <th>lastSaleDate</th>\n",
       "      <th>lastSaleAmount</th>\n",
       "      <th>priorSaleDate</th>\n",
       "      <th>priorSaleAmount</th>\n",
       "      <th>estimated_value</th>\n",
       "    </tr>\n",
       "  </thead>\n",
       "  <tbody>\n",
       "    <tr>\n",
       "      <th>0</th>\n",
       "      <td>39525749</td>\n",
       "      <td>8171 E 84th Ave</td>\n",
       "      <td>Denver</td>\n",
       "      <td>CO</td>\n",
       "      <td>80022</td>\n",
       "      <td>39.849160</td>\n",
       "      <td>-104.893468</td>\n",
       "      <td>3</td>\n",
       "      <td>2.0</td>\n",
       "      <td>6</td>\n",
       "      <td>1378</td>\n",
       "      <td>9968</td>\n",
       "      <td>2003.0</td>\n",
       "      <td>2009-12-17</td>\n",
       "      <td>75000</td>\n",
       "      <td>2004-05-13</td>\n",
       "      <td>165700.0</td>\n",
       "      <td>239753</td>\n",
       "    </tr>\n",
       "    <tr>\n",
       "      <th>1</th>\n",
       "      <td>184578398</td>\n",
       "      <td>10556 Wheeling St</td>\n",
       "      <td>Denver</td>\n",
       "      <td>CO</td>\n",
       "      <td>80022</td>\n",
       "      <td>39.888020</td>\n",
       "      <td>-104.830930</td>\n",
       "      <td>2</td>\n",
       "      <td>2.0</td>\n",
       "      <td>6</td>\n",
       "      <td>1653</td>\n",
       "      <td>6970</td>\n",
       "      <td>2004.0</td>\n",
       "      <td>2004-09-23</td>\n",
       "      <td>216935</td>\n",
       "      <td>NaN</td>\n",
       "      <td>NaN</td>\n",
       "      <td>343963</td>\n",
       "    </tr>\n",
       "    <tr>\n",
       "      <th>2</th>\n",
       "      <td>184430015</td>\n",
       "      <td>3190 Wadsworth Blvd</td>\n",
       "      <td>Denver</td>\n",
       "      <td>CO</td>\n",
       "      <td>80033</td>\n",
       "      <td>39.761710</td>\n",
       "      <td>-105.081070</td>\n",
       "      <td>3</td>\n",
       "      <td>1.0</td>\n",
       "      <td>0</td>\n",
       "      <td>1882</td>\n",
       "      <td>23875</td>\n",
       "      <td>1917.0</td>\n",
       "      <td>2008-04-03</td>\n",
       "      <td>330000</td>\n",
       "      <td>NaN</td>\n",
       "      <td>NaN</td>\n",
       "      <td>488840</td>\n",
       "    </tr>\n",
       "    <tr>\n",
       "      <th>3</th>\n",
       "      <td>155129946</td>\n",
       "      <td>3040 Wadsworth Blvd</td>\n",
       "      <td>Denver</td>\n",
       "      <td>CO</td>\n",
       "      <td>80033</td>\n",
       "      <td>39.760780</td>\n",
       "      <td>-105.081060</td>\n",
       "      <td>4</td>\n",
       "      <td>3.0</td>\n",
       "      <td>0</td>\n",
       "      <td>2400</td>\n",
       "      <td>11500</td>\n",
       "      <td>1956.0</td>\n",
       "      <td>2008-12-02</td>\n",
       "      <td>185000</td>\n",
       "      <td>2008-06-27</td>\n",
       "      <td>0.0</td>\n",
       "      <td>494073</td>\n",
       "    </tr>\n",
       "    <tr>\n",
       "      <th>4</th>\n",
       "      <td>245107</td>\n",
       "      <td>5615 S Eaton St</td>\n",
       "      <td>Denver</td>\n",
       "      <td>CO</td>\n",
       "      <td>80123</td>\n",
       "      <td>39.616181</td>\n",
       "      <td>-105.058812</td>\n",
       "      <td>3</td>\n",
       "      <td>4.0</td>\n",
       "      <td>8</td>\n",
       "      <td>2305</td>\n",
       "      <td>5600</td>\n",
       "      <td>1998.0</td>\n",
       "      <td>2012-07-18</td>\n",
       "      <td>308000</td>\n",
       "      <td>2011-12-29</td>\n",
       "      <td>0.0</td>\n",
       "      <td>513676</td>\n",
       "    </tr>\n",
       "    <tr>\n",
       "      <th>5</th>\n",
       "      <td>3523925</td>\n",
       "      <td>6535 W Sumac Ave</td>\n",
       "      <td>Denver</td>\n",
       "      <td>CO</td>\n",
       "      <td>80123</td>\n",
       "      <td>39.615136</td>\n",
       "      <td>-105.069018</td>\n",
       "      <td>3</td>\n",
       "      <td>5.0</td>\n",
       "      <td>7</td>\n",
       "      <td>2051</td>\n",
       "      <td>6045</td>\n",
       "      <td>1996.0</td>\n",
       "      <td>2006-09-12</td>\n",
       "      <td>363500</td>\n",
       "      <td>2005-05-16</td>\n",
       "      <td>339000.0</td>\n",
       "      <td>496062</td>\n",
       "    </tr>\n",
       "    <tr>\n",
       "      <th>6</th>\n",
       "      <td>30560679</td>\n",
       "      <td>6673 W Berry Ave</td>\n",
       "      <td>Denver</td>\n",
       "      <td>CO</td>\n",
       "      <td>80123</td>\n",
       "      <td>39.616350</td>\n",
       "      <td>-105.070760</td>\n",
       "      <td>4</td>\n",
       "      <td>4.0</td>\n",
       "      <td>8</td>\n",
       "      <td>2051</td>\n",
       "      <td>6315</td>\n",
       "      <td>1997.0</td>\n",
       "      <td>2014-12-15</td>\n",
       "      <td>420000</td>\n",
       "      <td>2006-07-07</td>\n",
       "      <td>345000.0</td>\n",
       "      <td>514953</td>\n",
       "    </tr>\n",
       "    <tr>\n",
       "      <th>7</th>\n",
       "      <td>39623928</td>\n",
       "      <td>5640 S Otis St</td>\n",
       "      <td>Denver</td>\n",
       "      <td>CO</td>\n",
       "      <td>80123</td>\n",
       "      <td>39.615213</td>\n",
       "      <td>-105.070617</td>\n",
       "      <td>3</td>\n",
       "      <td>3.0</td>\n",
       "      <td>7</td>\n",
       "      <td>2051</td>\n",
       "      <td>8133</td>\n",
       "      <td>1997.0</td>\n",
       "      <td>2004-03-15</td>\n",
       "      <td>328700</td>\n",
       "      <td>1998-04-09</td>\n",
       "      <td>225200.0</td>\n",
       "      <td>494321</td>\n",
       "    </tr>\n",
       "    <tr>\n",
       "      <th>8</th>\n",
       "      <td>148975825</td>\n",
       "      <td>5342 S Gray St</td>\n",
       "      <td>Denver</td>\n",
       "      <td>CO</td>\n",
       "      <td>80123</td>\n",
       "      <td>39.620158</td>\n",
       "      <td>-105.063094</td>\n",
       "      <td>3</td>\n",
       "      <td>3.0</td>\n",
       "      <td>7</td>\n",
       "      <td>1796</td>\n",
       "      <td>5038</td>\n",
       "      <td>1999.0</td>\n",
       "      <td>2011-08-16</td>\n",
       "      <td>274900</td>\n",
       "      <td>2011-01-10</td>\n",
       "      <td>0.0</td>\n",
       "      <td>496079</td>\n",
       "    </tr>\n",
       "    <tr>\n",
       "      <th>9</th>\n",
       "      <td>184623176</td>\n",
       "      <td>4967 S Wadsworth Blvd</td>\n",
       "      <td>Denver</td>\n",
       "      <td>CO</td>\n",
       "      <td>80123</td>\n",
       "      <td>39.626770</td>\n",
       "      <td>-105.081990</td>\n",
       "      <td>3</td>\n",
       "      <td>3.0</td>\n",
       "      <td>0</td>\n",
       "      <td>2054</td>\n",
       "      <td>4050</td>\n",
       "      <td>2007.0</td>\n",
       "      <td>2015-12-01</td>\n",
       "      <td>407000</td>\n",
       "      <td>2012-10-30</td>\n",
       "      <td>312000.0</td>\n",
       "      <td>424514</td>\n",
       "    </tr>\n",
       "  </tbody>\n",
       "</table>\n",
       "</div>"
      ],
      "text/plain": [
       "          id                address    city state  zipcode   latitude  \\\n",
       "0   39525749        8171 E 84th Ave  Denver    CO    80022  39.849160   \n",
       "1  184578398      10556 Wheeling St  Denver    CO    80022  39.888020   \n",
       "2  184430015    3190 Wadsworth Blvd  Denver    CO    80033  39.761710   \n",
       "3  155129946    3040 Wadsworth Blvd  Denver    CO    80033  39.760780   \n",
       "4     245107        5615 S Eaton St  Denver    CO    80123  39.616181   \n",
       "5    3523925       6535 W Sumac Ave  Denver    CO    80123  39.615136   \n",
       "6   30560679       6673 W Berry Ave  Denver    CO    80123  39.616350   \n",
       "7   39623928         5640 S Otis St  Denver    CO    80123  39.615213   \n",
       "8  148975825         5342 S Gray St  Denver    CO    80123  39.620158   \n",
       "9  184623176  4967 S Wadsworth Blvd  Denver    CO    80123  39.626770   \n",
       "\n",
       "    longitude  bedrooms  bathrooms  rooms  squareFootage  lotSize  yearBuilt  \\\n",
       "0 -104.893468         3        2.0      6           1378     9968     2003.0   \n",
       "1 -104.830930         2        2.0      6           1653     6970     2004.0   \n",
       "2 -105.081070         3        1.0      0           1882    23875     1917.0   \n",
       "3 -105.081060         4        3.0      0           2400    11500     1956.0   \n",
       "4 -105.058812         3        4.0      8           2305     5600     1998.0   \n",
       "5 -105.069018         3        5.0      7           2051     6045     1996.0   \n",
       "6 -105.070760         4        4.0      8           2051     6315     1997.0   \n",
       "7 -105.070617         3        3.0      7           2051     8133     1997.0   \n",
       "8 -105.063094         3        3.0      7           1796     5038     1999.0   \n",
       "9 -105.081990         3        3.0      0           2054     4050     2007.0   \n",
       "\n",
       "  lastSaleDate  lastSaleAmount priorSaleDate  priorSaleAmount  estimated_value  \n",
       "0   2009-12-17           75000    2004-05-13         165700.0           239753  \n",
       "1   2004-09-23          216935           NaN              NaN           343963  \n",
       "2   2008-04-03          330000           NaN              NaN           488840  \n",
       "3   2008-12-02          185000    2008-06-27              0.0           494073  \n",
       "4   2012-07-18          308000    2011-12-29              0.0           513676  \n",
       "5   2006-09-12          363500    2005-05-16         339000.0           496062  \n",
       "6   2014-12-15          420000    2006-07-07         345000.0           514953  \n",
       "7   2004-03-15          328700    1998-04-09         225200.0           494321  \n",
       "8   2011-08-16          274900    2011-01-10              0.0           496079  \n",
       "9   2015-12-01          407000    2012-10-30         312000.0           424514  "
      ]
     },
     "execution_count": 299,
     "metadata": {},
     "output_type": "execute_result"
    }
   ],
   "source": [
    "df.head(10)"
   ]
  },
  {
   "cell_type": "code",
   "execution_count": 323,
   "id": "6e28b4d2",
   "metadata": {},
   "outputs": [
    {
     "name": "stdout",
     "output_type": "stream",
     "text": [
      "<class 'pandas.core.frame.DataFrame'>\n",
      "RangeIndex: 15000 entries, 0 to 14999\n",
      "Data columns (total 18 columns):\n",
      " #   Column           Non-Null Count  Dtype  \n",
      "---  ------           --------------  -----  \n",
      " 0   id               15000 non-null  int64  \n",
      " 1   address          15000 non-null  object \n",
      " 2   city             15000 non-null  object \n",
      " 3   state            15000 non-null  object \n",
      " 4   zipcode          15000 non-null  int64  \n",
      " 5   latitude         14985 non-null  float64\n",
      " 6   longitude        14985 non-null  float64\n",
      " 7   bedrooms         15000 non-null  int64  \n",
      " 8   bathrooms        15000 non-null  float64\n",
      " 9   rooms            15000 non-null  int64  \n",
      " 10  squareFootage    15000 non-null  int64  \n",
      " 11  lotSize          15000 non-null  int64  \n",
      " 12  yearBuilt        14999 non-null  float64\n",
      " 13  lastSaleDate     15000 non-null  object \n",
      " 14  lastSaleAmount   15000 non-null  int64  \n",
      " 15  priorSaleDate    11173 non-null  object \n",
      " 16  priorSaleAmount  11287 non-null  float64\n",
      " 17  estimated_value  15000 non-null  int64  \n",
      "dtypes: float64(5), int64(8), object(5)\n",
      "memory usage: 2.1+ MB\n"
     ]
    }
   ],
   "source": [
    "df.info()"
   ]
  },
  {
   "cell_type": "code",
   "execution_count": 301,
   "id": "2c810f5a",
   "metadata": {},
   "outputs": [
    {
     "data": {
      "text/html": [
       "<div>\n",
       "<style scoped>\n",
       "    .dataframe tbody tr th:only-of-type {\n",
       "        vertical-align: middle;\n",
       "    }\n",
       "\n",
       "    .dataframe tbody tr th {\n",
       "        vertical-align: top;\n",
       "    }\n",
       "\n",
       "    .dataframe thead th {\n",
       "        text-align: right;\n",
       "    }\n",
       "</style>\n",
       "<table border=\"1\" class=\"dataframe\">\n",
       "  <thead>\n",
       "    <tr style=\"text-align: right;\">\n",
       "      <th></th>\n",
       "      <th>id</th>\n",
       "      <th>zipcode</th>\n",
       "      <th>latitude</th>\n",
       "      <th>longitude</th>\n",
       "      <th>bedrooms</th>\n",
       "      <th>bathrooms</th>\n",
       "      <th>rooms</th>\n",
       "      <th>squareFootage</th>\n",
       "      <th>lotSize</th>\n",
       "      <th>yearBuilt</th>\n",
       "      <th>lastSaleAmount</th>\n",
       "      <th>priorSaleAmount</th>\n",
       "      <th>estimated_value</th>\n",
       "    </tr>\n",
       "  </thead>\n",
       "  <tbody>\n",
       "    <tr>\n",
       "      <th>count</th>\n",
       "      <td>1.500000e+04</td>\n",
       "      <td>15000.000000</td>\n",
       "      <td>14985.000000</td>\n",
       "      <td>14985.000000</td>\n",
       "      <td>15000.000000</td>\n",
       "      <td>15000.000000</td>\n",
       "      <td>15000.000000</td>\n",
       "      <td>15000.000000</td>\n",
       "      <td>15000.00000</td>\n",
       "      <td>14999.000000</td>\n",
       "      <td>1.500000e+04</td>\n",
       "      <td>1.128700e+04</td>\n",
       "      <td>1.500000e+04</td>\n",
       "    </tr>\n",
       "    <tr>\n",
       "      <th>mean</th>\n",
       "      <td>5.176229e+07</td>\n",
       "      <td>80204.919467</td>\n",
       "      <td>39.740538</td>\n",
       "      <td>-104.964076</td>\n",
       "      <td>2.708400</td>\n",
       "      <td>2.195067</td>\n",
       "      <td>6.164133</td>\n",
       "      <td>1514.504400</td>\n",
       "      <td>5820.76620</td>\n",
       "      <td>1929.517168</td>\n",
       "      <td>4.053563e+05</td>\n",
       "      <td>2.594350e+05</td>\n",
       "      <td>6.371625e+05</td>\n",
       "    </tr>\n",
       "    <tr>\n",
       "      <th>std</th>\n",
       "      <td>6.190876e+07</td>\n",
       "      <td>9.715263</td>\n",
       "      <td>0.023555</td>\n",
       "      <td>0.039788</td>\n",
       "      <td>0.897231</td>\n",
       "      <td>1.166279</td>\n",
       "      <td>1.958601</td>\n",
       "      <td>830.635999</td>\n",
       "      <td>3013.27947</td>\n",
       "      <td>29.937051</td>\n",
       "      <td>7.756998e+05</td>\n",
       "      <td>3.379387e+05</td>\n",
       "      <td>5.044185e+05</td>\n",
       "    </tr>\n",
       "    <tr>\n",
       "      <th>min</th>\n",
       "      <td>1.433670e+05</td>\n",
       "      <td>80022.000000</td>\n",
       "      <td>39.614531</td>\n",
       "      <td>-105.108440</td>\n",
       "      <td>0.000000</td>\n",
       "      <td>0.000000</td>\n",
       "      <td>0.000000</td>\n",
       "      <td>350.000000</td>\n",
       "      <td>278.00000</td>\n",
       "      <td>1874.000000</td>\n",
       "      <td>2.590000e+02</td>\n",
       "      <td>0.000000e+00</td>\n",
       "      <td>1.477670e+05</td>\n",
       "    </tr>\n",
       "    <tr>\n",
       "      <th>25%</th>\n",
       "      <td>1.004802e+07</td>\n",
       "      <td>80205.000000</td>\n",
       "      <td>39.727634</td>\n",
       "      <td>-104.978737</td>\n",
       "      <td>2.000000</td>\n",
       "      <td>1.000000</td>\n",
       "      <td>5.000000</td>\n",
       "      <td>986.000000</td>\n",
       "      <td>4620.00000</td>\n",
       "      <td>1907.000000</td>\n",
       "      <td>1.940000e+05</td>\n",
       "      <td>1.100000e+05</td>\n",
       "      <td>3.984348e+05</td>\n",
       "    </tr>\n",
       "    <tr>\n",
       "      <th>50%</th>\n",
       "      <td>2.563241e+07</td>\n",
       "      <td>80206.000000</td>\n",
       "      <td>39.748048</td>\n",
       "      <td>-104.957689</td>\n",
       "      <td>3.000000</td>\n",
       "      <td>2.000000</td>\n",
       "      <td>6.000000</td>\n",
       "      <td>1267.500000</td>\n",
       "      <td>5950.00000</td>\n",
       "      <td>1925.000000</td>\n",
       "      <td>3.200000e+05</td>\n",
       "      <td>2.100000e+05</td>\n",
       "      <td>5.183575e+05</td>\n",
       "    </tr>\n",
       "    <tr>\n",
       "      <th>75%</th>\n",
       "      <td>5.114222e+07</td>\n",
       "      <td>80207.000000</td>\n",
       "      <td>39.758214</td>\n",
       "      <td>-104.937522</td>\n",
       "      <td>3.000000</td>\n",
       "      <td>3.000000</td>\n",
       "      <td>7.000000</td>\n",
       "      <td>1766.250000</td>\n",
       "      <td>6270.00000</td>\n",
       "      <td>1949.000000</td>\n",
       "      <td>4.632000e+05</td>\n",
       "      <td>3.302400e+05</td>\n",
       "      <td>6.879692e+05</td>\n",
       "    </tr>\n",
       "    <tr>\n",
       "      <th>max</th>\n",
       "      <td>3.209481e+08</td>\n",
       "      <td>80209.000000</td>\n",
       "      <td>39.888020</td>\n",
       "      <td>-104.830930</td>\n",
       "      <td>15.000000</td>\n",
       "      <td>12.000000</td>\n",
       "      <td>39.000000</td>\n",
       "      <td>10907.000000</td>\n",
       "      <td>122839.00000</td>\n",
       "      <td>2016.000000</td>\n",
       "      <td>4.560000e+07</td>\n",
       "      <td>1.600000e+07</td>\n",
       "      <td>1.014531e+07</td>\n",
       "    </tr>\n",
       "  </tbody>\n",
       "</table>\n",
       "</div>"
      ],
      "text/plain": [
       "                 id       zipcode      latitude     longitude      bedrooms  \\\n",
       "count  1.500000e+04  15000.000000  14985.000000  14985.000000  15000.000000   \n",
       "mean   5.176229e+07  80204.919467     39.740538   -104.964076      2.708400   \n",
       "std    6.190876e+07      9.715263      0.023555      0.039788      0.897231   \n",
       "min    1.433670e+05  80022.000000     39.614531   -105.108440      0.000000   \n",
       "25%    1.004802e+07  80205.000000     39.727634   -104.978737      2.000000   \n",
       "50%    2.563241e+07  80206.000000     39.748048   -104.957689      3.000000   \n",
       "75%    5.114222e+07  80207.000000     39.758214   -104.937522      3.000000   \n",
       "max    3.209481e+08  80209.000000     39.888020   -104.830930     15.000000   \n",
       "\n",
       "          bathrooms         rooms  squareFootage       lotSize     yearBuilt  \\\n",
       "count  15000.000000  15000.000000   15000.000000   15000.00000  14999.000000   \n",
       "mean       2.195067      6.164133    1514.504400    5820.76620   1929.517168   \n",
       "std        1.166279      1.958601     830.635999    3013.27947     29.937051   \n",
       "min        0.000000      0.000000     350.000000     278.00000   1874.000000   \n",
       "25%        1.000000      5.000000     986.000000    4620.00000   1907.000000   \n",
       "50%        2.000000      6.000000    1267.500000    5950.00000   1925.000000   \n",
       "75%        3.000000      7.000000    1766.250000    6270.00000   1949.000000   \n",
       "max       12.000000     39.000000   10907.000000  122839.00000   2016.000000   \n",
       "\n",
       "       lastSaleAmount  priorSaleAmount  estimated_value  \n",
       "count    1.500000e+04     1.128700e+04     1.500000e+04  \n",
       "mean     4.053563e+05     2.594350e+05     6.371625e+05  \n",
       "std      7.756998e+05     3.379387e+05     5.044185e+05  \n",
       "min      2.590000e+02     0.000000e+00     1.477670e+05  \n",
       "25%      1.940000e+05     1.100000e+05     3.984348e+05  \n",
       "50%      3.200000e+05     2.100000e+05     5.183575e+05  \n",
       "75%      4.632000e+05     3.302400e+05     6.879692e+05  \n",
       "max      4.560000e+07     1.600000e+07     1.014531e+07  "
      ]
     },
     "execution_count": 301,
     "metadata": {},
     "output_type": "execute_result"
    }
   ],
   "source": [
    "df.describe()"
   ]
  },
  {
   "cell_type": "code",
   "execution_count": 302,
   "id": "a9d4d3e4",
   "metadata": {},
   "outputs": [],
   "source": [
    "X = df.drop('estimated_value', axis=1)  # drop xóa axis=1 của trường estimated_value, X:định nghĩa thêm 1 giá trị có tên X"
   ]
  },
  {
   "cell_type": "code",
   "execution_count": 303,
   "id": "c8d70d79",
   "metadata": {},
   "outputs": [],
   "source": [
    " # insert các cột trong giá trị X\n",
    "X= X[['bedrooms', 'bathrooms',  'rooms', 'squareFootage','lotSize', 'yearBuilt', 'priorSaleAmount']]"
   ]
  },
  {
   "cell_type": "code",
   "execution_count": 304,
   "id": "cccec67b",
   "metadata": {},
   "outputs": [],
   "source": [
    "X.fillna(0, inplace=True) # Loại Bỏ Các Ô Dữ Liệu Trống với dropna"
   ]
  },
  {
   "cell_type": "code",
   "execution_count": 305,
   "id": "cab8ee71",
   "metadata": {},
   "outputs": [
    {
     "data": {
      "text/html": [
       "<div>\n",
       "<style scoped>\n",
       "    .dataframe tbody tr th:only-of-type {\n",
       "        vertical-align: middle;\n",
       "    }\n",
       "\n",
       "    .dataframe tbody tr th {\n",
       "        vertical-align: top;\n",
       "    }\n",
       "\n",
       "    .dataframe thead th {\n",
       "        text-align: right;\n",
       "    }\n",
       "</style>\n",
       "<table border=\"1\" class=\"dataframe\">\n",
       "  <thead>\n",
       "    <tr style=\"text-align: right;\">\n",
       "      <th></th>\n",
       "      <th>bedrooms</th>\n",
       "      <th>bathrooms</th>\n",
       "      <th>rooms</th>\n",
       "      <th>squareFootage</th>\n",
       "      <th>lotSize</th>\n",
       "      <th>yearBuilt</th>\n",
       "      <th>priorSaleAmount</th>\n",
       "    </tr>\n",
       "  </thead>\n",
       "  <tbody>\n",
       "    <tr>\n",
       "      <th>0</th>\n",
       "      <td>3</td>\n",
       "      <td>2.0</td>\n",
       "      <td>6</td>\n",
       "      <td>1378</td>\n",
       "      <td>9968</td>\n",
       "      <td>2003.0</td>\n",
       "      <td>165700.0</td>\n",
       "    </tr>\n",
       "    <tr>\n",
       "      <th>1</th>\n",
       "      <td>2</td>\n",
       "      <td>2.0</td>\n",
       "      <td>6</td>\n",
       "      <td>1653</td>\n",
       "      <td>6970</td>\n",
       "      <td>2004.0</td>\n",
       "      <td>0.0</td>\n",
       "    </tr>\n",
       "  </tbody>\n",
       "</table>\n",
       "</div>"
      ],
      "text/plain": [
       "   bedrooms  bathrooms  rooms  squareFootage  lotSize  yearBuilt  \\\n",
       "0         3        2.0      6           1378     9968     2003.0   \n",
       "1         2        2.0      6           1653     6970     2004.0   \n",
       "\n",
       "   priorSaleAmount  \n",
       "0         165700.0  \n",
       "1              0.0  "
      ]
     },
     "execution_count": 305,
     "metadata": {},
     "output_type": "execute_result"
    }
   ],
   "source": [
    "X.head(2)"
   ]
  },
  {
   "cell_type": "code",
   "execution_count": 306,
   "id": "15254041",
   "metadata": {},
   "outputs": [],
   "source": [
    "# fit lấy 1 giá trị phù hợp,kmeans:from sklearn.cluster import KMeans\n",
    "kmeans = KMeans(n_clusters=5, random_state=0).fit(X)  "
   ]
  },
  {
   "cell_type": "code",
   "execution_count": 307,
   "id": "a98e2889",
   "metadata": {},
   "outputs": [
    {
     "data": {
      "text/plain": [
       "KMeans(n_clusters=5, random_state=0)"
      ]
     },
     "execution_count": 307,
     "metadata": {},
     "output_type": "execute_result"
    }
   ],
   "source": [
    "kmeans"
   ]
  },
  {
   "cell_type": "code",
   "execution_count": 308,
   "id": "2b281780",
   "metadata": {},
   "outputs": [
    {
     "data": {
      "text/plain": [
       "(15000, (15000, 7))"
      ]
     },
     "execution_count": 308,
     "metadata": {},
     "output_type": "execute_result"
    }
   ],
   "source": [
    "len(kmeans.labels_), X.shape"
   ]
  },
  {
   "cell_type": "code",
   "execution_count": 309,
   "id": "4dae5757",
   "metadata": {},
   "outputs": [],
   "source": [
    "labels = kmeans.labels_ # định nghĩa labels"
   ]
  },
  {
   "cell_type": "code",
   "execution_count": 310,
   "id": "fe7f47b9",
   "metadata": {},
   "outputs": [
    {
     "data": {
      "text/plain": [
       "(5, 7)"
      ]
     },
     "execution_count": 310,
     "metadata": {},
     "output_type": "execute_result"
    }
   ],
   "source": [
    "kmeans.cluster_centers_.shape"
   ]
  },
  {
   "cell_type": "code",
   "execution_count": 311,
   "id": "0f062689",
   "metadata": {},
   "outputs": [
    {
     "data": {
      "text/plain": [
       "array([3.31226296e+00, 3.83944374e+00, 8.42730721e+00, 2.69720607e+03,\n",
       "       6.97174968e+03, 1.94200506e+03, 7.43586930e+05])"
      ]
     },
     "execution_count": 311,
     "metadata": {},
     "output_type": "execute_result"
    }
   ],
   "source": [
    "kmeans.cluster_centers_[0]"
   ]
  },
  {
   "cell_type": "code",
   "execution_count": 312,
   "id": "a7ff1c13",
   "metadata": {},
   "outputs": [],
   "source": [
    "X['cluster'] = labels"
   ]
  },
  {
   "cell_type": "code",
   "execution_count": 313,
   "id": "61f0dcfe",
   "metadata": {},
   "outputs": [
    {
     "data": {
      "text/html": [
       "<div>\n",
       "<style scoped>\n",
       "    .dataframe tbody tr th:only-of-type {\n",
       "        vertical-align: middle;\n",
       "    }\n",
       "\n",
       "    .dataframe tbody tr th {\n",
       "        vertical-align: top;\n",
       "    }\n",
       "\n",
       "    .dataframe thead th {\n",
       "        text-align: right;\n",
       "    }\n",
       "</style>\n",
       "<table border=\"1\" class=\"dataframe\">\n",
       "  <thead>\n",
       "    <tr style=\"text-align: right;\">\n",
       "      <th></th>\n",
       "      <th>bedrooms</th>\n",
       "      <th>bathrooms</th>\n",
       "      <th>rooms</th>\n",
       "      <th>squareFootage</th>\n",
       "      <th>lotSize</th>\n",
       "      <th>yearBuilt</th>\n",
       "      <th>priorSaleAmount</th>\n",
       "    </tr>\n",
       "    <tr>\n",
       "      <th>cluster</th>\n",
       "      <th></th>\n",
       "      <th></th>\n",
       "      <th></th>\n",
       "      <th></th>\n",
       "      <th></th>\n",
       "      <th></th>\n",
       "      <th></th>\n",
       "    </tr>\n",
       "  </thead>\n",
       "  <tbody>\n",
       "    <tr>\n",
       "      <th>0</th>\n",
       "      <td>3.0</td>\n",
       "      <td>4.0</td>\n",
       "      <td>8.0</td>\n",
       "      <td>2582.0</td>\n",
       "      <td>6250.0</td>\n",
       "      <td>1927.0</td>\n",
       "      <td>651500.0</td>\n",
       "    </tr>\n",
       "    <tr>\n",
       "      <th>1</th>\n",
       "      <td>2.0</td>\n",
       "      <td>2.0</td>\n",
       "      <td>5.0</td>\n",
       "      <td>1133.0</td>\n",
       "      <td>6236.5</td>\n",
       "      <td>1928.5</td>\n",
       "      <td>0.0</td>\n",
       "    </tr>\n",
       "    <tr>\n",
       "      <th>2</th>\n",
       "      <td>3.0</td>\n",
       "      <td>4.5</td>\n",
       "      <td>9.0</td>\n",
       "      <td>3748.0</td>\n",
       "      <td>8597.5</td>\n",
       "      <td>1998.0</td>\n",
       "      <td>13750055.0</td>\n",
       "    </tr>\n",
       "    <tr>\n",
       "      <th>3</th>\n",
       "      <td>4.0</td>\n",
       "      <td>6.0</td>\n",
       "      <td>10.0</td>\n",
       "      <td>4424.0</td>\n",
       "      <td>8580.0</td>\n",
       "      <td>1989.0</td>\n",
       "      <td>2200000.0</td>\n",
       "    </tr>\n",
       "    <tr>\n",
       "      <th>4</th>\n",
       "      <td>3.0</td>\n",
       "      <td>2.0</td>\n",
       "      <td>6.0</td>\n",
       "      <td>1327.0</td>\n",
       "      <td>5210.0</td>\n",
       "      <td>1923.0</td>\n",
       "      <td>279900.0</td>\n",
       "    </tr>\n",
       "  </tbody>\n",
       "</table>\n",
       "</div>"
      ],
      "text/plain": [
       "         bedrooms  bathrooms  rooms  squareFootage  lotSize  yearBuilt  \\\n",
       "cluster                                                                  \n",
       "0             3.0        4.0    8.0         2582.0   6250.0     1927.0   \n",
       "1             2.0        2.0    5.0         1133.0   6236.5     1928.5   \n",
       "2             3.0        4.5    9.0         3748.0   8597.5     1998.0   \n",
       "3             4.0        6.0   10.0         4424.0   8580.0     1989.0   \n",
       "4             3.0        2.0    6.0         1327.0   5210.0     1923.0   \n",
       "\n",
       "         priorSaleAmount  \n",
       "cluster                   \n",
       "0               651500.0  \n",
       "1                    0.0  \n",
       "2             13750055.0  \n",
       "3              2200000.0  \n",
       "4               279900.0  "
      ]
     },
     "execution_count": 313,
     "metadata": {},
     "output_type": "execute_result"
    }
   ],
   "source": [
    "X.groupby('cluster').median()"
   ]
  },
  {
   "cell_type": "code",
   "execution_count": 314,
   "id": "4a76fffd",
   "metadata": {},
   "outputs": [],
   "source": [
    "X= X.drop('cluster', axis=1) # drop loại bỏ cột"
   ]
  },
  {
   "cell_type": "code",
   "execution_count": 315,
   "id": "d55bb6fb",
   "metadata": {},
   "outputs": [],
   "source": [
    "from  sklearn.metrics import silhouette_score"
   ]
  },
  {
   "cell_type": "code",
   "execution_count": 316,
   "id": "52c8d880",
   "metadata": {},
   "outputs": [
    {
     "name": "stdout",
     "output_type": "stream",
     "text": [
      "0.6145595723417597\n",
      "0.6167459027690271\n",
      "0.6336594067404021\n",
      "0.6438471925882904\n",
      "0.6591842039242759\n",
      "0.660940918441709\n",
      "0.6571965300913395\n"
     ]
    }
   ],
   "source": [
    "for i in range(3, 10):\n",
    "    kmeans=KMeans(n_clusters=i).fit(X)\n",
    "    labels = kmeans.labels_\n",
    "    print (silhouette_score(X, labels))\n",
    "    #print  kmeans.cluster_centers_  "
   ]
  },
  {
   "cell_type": "code",
   "execution_count": 317,
   "id": "83abf3df",
   "metadata": {},
   "outputs": [
    {
     "name": "stdout",
     "output_type": "stream",
     "text": [
      "Automatically created module for IPython interactive environment\n"
     ]
    },
    {
     "name": "stderr",
     "output_type": "stream",
     "text": [
      "C:\\Users\\admin\\Anaconda3\\lib\\site-packages\\ipykernel_launcher.py:37: DeprecationWarning: `np.float` is a deprecated alias for the builtin `float`. To silence this warning, use `float` by itself. Doing this will not modify any behavior and is safe. If you specifically wanted the numpy scalar type, use `np.float64` here.\n",
      "Deprecated in NumPy 1.20; for more details and guidance: https://numpy.org/devdocs/release/1.20.0-notes.html#deprecations\n",
      "C:\\Users\\admin\\Anaconda3\\lib\\site-packages\\ipykernel_launcher.py:37: DeprecationWarning: `np.float` is a deprecated alias for the builtin `float`. To silence this warning, use `float` by itself. Doing this will not modify any behavior and is safe. If you specifically wanted the numpy scalar type, use `np.float64` here.\n",
      "Deprecated in NumPy 1.20; for more details and guidance: https://numpy.org/devdocs/release/1.20.0-notes.html#deprecations\n",
      "C:\\Users\\admin\\Anaconda3\\lib\\site-packages\\ipykernel_launcher.py:37: DeprecationWarning: `np.float` is a deprecated alias for the builtin `float`. To silence this warning, use `float` by itself. Doing this will not modify any behavior and is safe. If you specifically wanted the numpy scalar type, use `np.float64` here.\n",
      "Deprecated in NumPy 1.20; for more details and guidance: https://numpy.org/devdocs/release/1.20.0-notes.html#deprecations\n",
      "C:\\Users\\admin\\Anaconda3\\lib\\site-packages\\ipykernel_launcher.py:62: DeprecationWarning: `np.float` is a deprecated alias for the builtin `float`. To silence this warning, use `float` by itself. Doing this will not modify any behavior and is safe. If you specifically wanted the numpy scalar type, use `np.float64` here.\n",
      "Deprecated in NumPy 1.20; for more details and guidance: https://numpy.org/devdocs/release/1.20.0-notes.html#deprecations\n",
      "C:\\Users\\admin\\Anaconda3\\lib\\site-packages\\ipykernel_launcher.py:74: UserWarning: Matplotlib is currently using module://ipykernel.pylab.backend_inline, which is a non-GUI backend, so cannot show the figure.\n"
     ]
    },
    {
     "data": {
      "image/png": "[encoded data removed]",
      "text/plain": [
       "<Figure size 288x216 with 1 Axes>"
      ]
     },
     "metadata": {
      "needs_background": "light"
     },
     "output_type": "display_data"
    },
    {
     "data": {
      "image/png": "[encoded data removed]",
      "text/plain": [
       "<Figure size 288x216 with 1 Axes>"
      ]
     },
     "metadata": {
      "needs_background": "light"
     },
     "output_type": "display_data"
    },
    {
     "data": {
      "image/png": "[encoded data removed]",
      "text/plain": [
       "<Figure size 288x216 with 1 Axes>"
      ]
     },
     "metadata": {
      "needs_background": "light"
     },
     "output_type": "display_data"
    },
    {
     "data": {
      "image/png": "[encoded data removed]",
      "text/plain": [
       "<Figure size 288x216 with 1 Axes>"
      ]
     },
     "metadata": {
      "needs_background": "light"
     },
     "output_type": "display_data"
    }
   ],
   "source": [
    "print(__doc__)\n",
    "\n",
    "\n",
    "# Code source: Gaël Varoquaux\n",
    "# Modified for documentation by Jaques Grobler\n",
    "# License: BSD 3 clause\n",
    "\n",
    "import numpy as np\n",
    "import matplotlib.pyplot as plt\n",
    "# Though the following import is not directly being used, it is required\n",
    "# for 3D projection to work\n",
    "from mpl_toolkits.mplot3d import Axes3D\n",
    "\n",
    "from sklearn.cluster import KMeans\n",
    "from sklearn import datasets\n",
    "\n",
    "np.random.seed(5)\n",
    "\n",
    "iris = datasets.load_iris()\n",
    "X = iris.data\n",
    "y = iris.target\n",
    "\n",
    "estimators = [('k_means_iris_8', KMeans(n_clusters=8)),\n",
    "              ('k_means_iris_3', KMeans(n_clusters=3)),\n",
    "              ('k_means_iris_bad_init', KMeans(n_clusters=3, n_init=1,\n",
    "                                               init='random'))]\n",
    "\n",
    "fignum = 1\n",
    "titles = ['8 clusters', '3 clusters', '3 clusters, bad initialization']\n",
    "for name, est in estimators:\n",
    "    fig = plt.figure(fignum, figsize=(4, 3))\n",
    "    ax = Axes3D(fig, rect=[0, 0, .95, 1], elev=48, azim=134)\n",
    "    est.fit(X)\n",
    "    labels = est.labels_\n",
    "\n",
    "    ax.scatter(X[:, 3], X[:, 0], X[:, 2],\n",
    "               c=labels.astype(np.float), edgecolor='k')\n",
    "\n",
    "    ax.w_xaxis.set_ticklabels([])\n",
    "    ax.w_yaxis.set_ticklabels([])\n",
    "    ax.w_zaxis.set_ticklabels([])\n",
    "    ax.set_xlabel('Petal width')\n",
    "    ax.set_ylabel('Sepal length')\n",
    "    ax.set_zlabel('Petal length')\n",
    "    ax.set_title(titles[fignum - 1])\n",
    "    ax.dist = 12\n",
    "    fignum = fignum + 1\n",
    "\n",
    "# Plot the ground truth\n",
    "fig = plt.figure(fignum, figsize=(4, 3))\n",
    "ax = Axes3D(fig, rect=[0, 0, .95, 1], elev=48, azim=134)\n",
    "\n",
    "for name, label in [('Setosa', 0),\n",
    "                    ('Versicolour', 1),\n",
    "                    ('Virginica', 2)]:\n",
    "    ax.text3D(X[y == label, 3].mean(),\n",
    "              X[y == label, 0].mean(),\n",
    "              X[y == label, 2].mean() + 2, name,\n",
    "              horizontalalignment='center',\n",
    "              bbox=dict(alpha=.2, edgecolor='w', facecolor='w'))\n",
    "# Reorder the labels to have colors matching the cluster results\n",
    "y = np.choose(y, [1, 2, 0]).astype(np.float)\n",
    "ax.scatter(X[:, 3], X[:, 0], X[:, 2], c=y, edgecolor='k')\n",
    "\n",
    "ax.w_xaxis.set_ticklabels([])\n",
    "ax.w_yaxis.set_ticklabels([])\n",
    "ax.w_zaxis.set_ticklabels([])\n",
    "ax.set_xlabel('Petal width')\n",
    "ax.set_ylabel('Sepal length')\n",
    "ax.set_zlabel('Petal length')\n",
    "ax.set_title('Ground Truth')\n",
    "ax.dist = 12\n",
    "\n",
    "fig.show()\n"
   ]
  },
  {
   "cell_type": "code",
   "execution_count": 318,
   "id": "e0d2f7a7",
   "metadata": {},
   "outputs": [],
   "source": [
    "# Section 2.2 Classification and regression"
   ]
  },
  {
   "cell_type": "code",
   "execution_count": 319,
   "id": "93b7409d",
   "metadata": {
    "scrolled": true
   },
   "outputs": [],
   "source": [
    "# LinearRegression (Hồi Quy Tuyến Tính), LogisticRegression dùng cho phân loại tuyến tính\n",
    "from sklearn.linear_model import LinearRegression, LogisticRegression  \n",
    "\n",
    "from sklearn.svm import SVC, SVR\n",
    "\n",
    "from sklearn.neighbors import KNeighborsClassifier , KNeighborsRegressor\n",
    "\n",
    "from sklearn.model_selection import train_test_split # phiên bản phù hợp\n",
    "\n",
    "#from sklearn.cross_validation import train_test_split\n",
    "\n",
    "from sklearn.metrics import confusion_matrix"
   ]
  },
  {
   "cell_type": "code",
   "execution_count": 320,
   "id": "3233526c",
   "metadata": {},
   "outputs": [
    {
     "ename": "AttributeError",
     "evalue": "'numpy.ndarray' object has no attribute 'head'",
     "output_type": "error",
     "traceback": [
      "\u001b[1;31m---------------------------------------------------------------------------\u001b[0m",
      "\u001b[1;31mAttributeError\u001b[0m                            Traceback (most recent call last)",
      "\u001b[1;32m<ipython-input-320-6123b613959b>\u001b[0m in \u001b[0;36m<module>\u001b[1;34m\u001b[0m\n\u001b[1;32m----> 1\u001b[1;33m \u001b[0mX\u001b[0m\u001b[1;33m.\u001b[0m\u001b[0mhead\u001b[0m\u001b[1;33m(\u001b[0m\u001b[1;36m2\u001b[0m\u001b[1;33m)\u001b[0m\u001b[1;33m\u001b[0m\u001b[1;33m\u001b[0m\u001b[0m\n\u001b[0m",
      "\u001b[1;31mAttributeError\u001b[0m: 'numpy.ndarray' object has no attribute 'head'"
     ]
    }
   ],
   "source": [
    "X.head(2)"
   ]
  },
  {
   "cell_type": "code",
   "execution_count": null,
   "id": "fce50768",
   "metadata": {},
   "outputs": [],
   "source": [
    "y=df.estimated_value"
   ]
  },
  {
   "cell_type": "code",
   "execution_count": null,
   "id": "4037d076",
   "metadata": {},
   "outputs": [],
   "source": [
    "lg = LinearRegression()\n",
    "lg.fit(X,y)\n",
    "lg.score(X,y)"
   ]
  },
  {
   "cell_type": "code",
   "execution_count": null,
   "id": "a24acf8f",
   "metadata": {},
   "outputs": [],
   "source": [
    "X_train, X_test,  y_train, y_test= train_test_split(X,y)"
   ]
  },
  {
   "cell_type": "code",
   "execution_count": null,
   "id": "1d19e95e",
   "metadata": {},
   "outputs": [],
   "source": [
    "X_train.shape, y_train.shape "
   ]
  },
  {
   "cell_type": "code",
   "execution_count": null,
   "id": "a9c84697",
   "metadata": {},
   "outputs": [],
   "source": [
    "lg = LinearRegression()\n",
    "lg.fit(X_train,y_train) # training , fit \n",
    "lg.score(X_test,y_test) # evaluate , score, R2 "
   ]
  },
  {
   "cell_type": "code",
   "execution_count": null,
   "id": "ff8c9ca8",
   "metadata": {},
   "outputs": [],
   "source": [
    "df['estimated_value_bins']=df.estimated_value.apply(lambda x: 'high' if x> 500000 else 'low')"
   ]
  },
  {
   "cell_type": "code",
   "execution_count": null,
   "id": "ea75ac8a",
   "metadata": {},
   "outputs": [],
   "source": [
    "df.estimated_value_bins.value_counts()"
   ]
  },
  {
   "cell_type": "code",
   "execution_count": null,
   "id": "b4ac09eb",
   "metadata": {},
   "outputs": [],
   "source": [
    "df.estimated_value.hist()"
   ]
  },
  {
   "cell_type": "code",
   "execution_count": null,
   "id": "f2c782b9",
   "metadata": {},
   "outputs": [],
   "source": [
    "df.head(10)"
   ]
  },
  {
   "cell_type": "code",
   "execution_count": null,
   "id": "7e6ad41d",
   "metadata": {},
   "outputs": [],
   "source": [
    "y2= df.estimated_value_bins"
   ]
  },
  {
   "cell_type": "code",
   "execution_count": null,
   "id": "446647cd",
   "metadata": {},
   "outputs": [],
   "source": [
    "log = LogisticRegression() "
   ]
  },
  {
   "cell_type": "code",
   "execution_count": null,
   "id": "b3f3154a",
   "metadata": {},
   "outputs": [],
   "source": [
    "X_train, X_test,  y2_train, y2_test= train_test_split(X,y2)"
   ]
  },
  {
   "cell_type": "code",
   "execution_count": null,
   "id": "47765f6f",
   "metadata": {},
   "outputs": [],
   "source": [
    "log.fit(X_train, y2_train)"
   ]
  },
  {
   "cell_type": "code",
   "execution_count": null,
   "id": "afb43f9c",
   "metadata": {},
   "outputs": [],
   "source": [
    "log.score(X_test, y2_test)"
   ]
  },
  {
   "cell_type": "code",
   "execution_count": null,
   "id": "9b26802a",
   "metadata": {},
   "outputs": [],
   "source": [
    "log.predict(X_test)"
   ]
  },
  {
   "cell_type": "code",
   "execution_count": null,
   "id": "b66a302d",
   "metadata": {},
   "outputs": [],
   "source": [
    "log.predict(X_test), y2_test"
   ]
  },
  {
   "cell_type": "code",
   "execution_count": null,
   "id": "d1f7f58c",
   "metadata": {},
   "outputs": [],
   "source": [
    "y_pred = log.predict(X_test) "
   ]
  },
  {
   "cell_type": "code",
   "execution_count": null,
   "id": "871193ea",
   "metadata": {},
   "outputs": [],
   "source": [
    "np.array(y2_test)"
   ]
  },
  {
   "cell_type": "code",
   "execution_count": null,
   "id": "9294d688",
   "metadata": {},
   "outputs": [],
   "source": [
    "confusion_matrix(y2_test,y_pred )"
   ]
  },
  {
   "cell_type": "code",
   "execution_count": null,
   "id": "0542cb91",
   "metadata": {},
   "outputs": [],
   "source": [
    "#confusion_matrix(y2_test,y_pred )\n",
    " #   true labels\n",
    " #   high    low\n",
    "#pred"
   ]
  },
  {
   "cell_type": "code",
   "execution_count": null,
   "id": "2825eabf",
   "metadata": {},
   "outputs": [],
   "source": [
    "## Section 2.2 Continued\n",
    "from IPython.display import Image"
   ]
  },
  {
   "cell_type": "code",
   "execution_count": null,
   "id": "4eb562ab",
   "metadata": {},
   "outputs": [],
   "source": [
    "Image('svm.png')\n",
    "print ('Support Vector Machine')"
   ]
  },
  {
   "cell_type": "code",
   "execution_count": null,
   "id": "a99ab6f3",
   "metadata": {
    "scrolled": true
   },
   "outputs": [],
   "source": [
    "Image('svm.png')"
   ]
  },
  {
   "cell_type": "code",
   "execution_count": null,
   "id": "7d437fa3",
   "metadata": {},
   "outputs": [],
   "source": [
    "svr= SVR() \n",
    "svr.fit(X_train, y_train)\n",
    "svr.score(X_test, y_test) \n",
    "# not so great "
   ]
  },
  {
   "cell_type": "code",
   "execution_count": null,
   "id": "f3f90ca9",
   "metadata": {},
   "outputs": [],
   "source": [
    "svc= SVC() \n",
    "svc.fit(X_train, y2_train)\n",
    "svc.score(X_test, y2_test) "
   ]
  },
  {
   "cell_type": "code",
   "execution_count": null,
   "id": "fcb09a09",
   "metadata": {},
   "outputs": [],
   "source": [
    "y2_pred=svc.predict(X_test)"
   ]
  },
  {
   "cell_type": "code",
   "execution_count": null,
   "id": "03c04c5b",
   "metadata": {},
   "outputs": [],
   "source": [
    "confusion_matrix(y2_test, y2_pred)"
   ]
  },
  {
   "cell_type": "code",
   "execution_count": null,
   "id": "4ab222f7",
   "metadata": {},
   "outputs": [],
   "source": [
    "## KNN: \n",
    "xxxxxx\n",
    "unknown=x\n",
    "xxxxx    \n",
    "\n",
    "     ooooooo\n",
    "        unknown= o \n",
    "    ooooooo"
   ]
  },
  {
   "cell_type": "code",
   "execution_count": null,
   "id": "058fdb33",
   "metadata": {},
   "outputs": [],
   "source": [
    "knn= KNeighborsRegressor() "
   ]
  },
  {
   "cell_type": "code",
   "execution_count": null,
   "id": "6bc1851a",
   "metadata": {},
   "outputs": [],
   "source": [
    "knn.fit(X_train, y_train)"
   ]
  },
  {
   "cell_type": "code",
   "execution_count": null,
   "id": "3df55466",
   "metadata": {},
   "outputs": [],
   "source": [
    "knn.score(X_test, y_test)"
   ]
  },
  {
   "cell_type": "code",
   "execution_count": null,
   "id": "c93f1515",
   "metadata": {},
   "outputs": [],
   "source": [
    "knn= KNeighborsClassifier()"
   ]
  },
  {
   "cell_type": "code",
   "execution_count": null,
   "id": "959b8317",
   "metadata": {},
   "outputs": [],
   "source": [
    "knn.fit(X_train, y2_train)"
   ]
  },
  {
   "cell_type": "code",
   "execution_count": null,
   "id": "a80f8b3e",
   "metadata": {},
   "outputs": [],
   "source": [
    "knn.score(X_test,y2_test) "
   ]
  },
  {
   "cell_type": "code",
   "execution_count": null,
   "id": "55ad55b8",
   "metadata": {},
   "outputs": [],
   "source": [
    "y2_pred=knn.predict(X_test)"
   ]
  },
  {
   "cell_type": "code",
   "execution_count": null,
   "id": "792a09d6",
   "metadata": {},
   "outputs": [],
   "source": [
    "confusion_matrix(y2_test, y2_pred)"
   ]
  },
  {
   "cell_type": "code",
   "execution_count": null,
   "id": "cc196e31",
   "metadata": {},
   "outputs": [],
   "source": [
    "# Section 2.3 Association and correlation"
   ]
  },
  {
   "cell_type": "code",
   "execution_count": null,
   "id": "2728c5df",
   "metadata": {},
   "outputs": [],
   "source": [
    "sns.heatmap(df.corr())"
   ]
  },
  {
   "cell_type": "code",
   "execution_count": null,
   "id": "d0c4680d",
   "metadata": {},
   "outputs": [],
   "source": [
    "df.cov()"
   ]
  },
  {
   "cell_type": "code",
   "execution_count": null,
   "id": "5e7ed8af",
   "metadata": {},
   "outputs": [],
   "source": [
    "X"
   ]
  },
  {
   "cell_type": "code",
   "execution_count": null,
   "id": "8c0bf8af",
   "metadata": {},
   "outputs": [],
   "source": [
    "y"
   ]
  },
  {
   "cell_type": "code",
   "execution_count": 326,
   "id": "d4fd6bf7",
   "metadata": {},
   "outputs": [],
   "source": [
    "y=df.estimated_value"
   ]
  },
  {
   "cell_type": "code",
   "execution_count": 327,
   "id": "886a9ff5",
   "metadata": {},
   "outputs": [
    {
     "ename": "AttributeError",
     "evalue": "'numpy.ndarray' object has no attribute 'columns'",
     "output_type": "error",
     "traceback": [
      "\u001b[1;31m---------------------------------------------------------------------------\u001b[0m",
      "\u001b[1;31mAttributeError\u001b[0m                            Traceback (most recent call last)",
      "\u001b[1;32m<ipython-input-327-901c1061bf7c>\u001b[0m in \u001b[0;36m<module>\u001b[1;34m\u001b[0m\n\u001b[1;32m----> 1\u001b[1;33m \u001b[0mX\u001b[0m\u001b[1;33m.\u001b[0m\u001b[0mcolumns\u001b[0m\u001b[1;33m\u001b[0m\u001b[1;33m\u001b[0m\u001b[0m\n\u001b[0m",
      "\u001b[1;31mAttributeError\u001b[0m: 'numpy.ndarray' object has no attribute 'columns'"
     ]
    }
   ],
   "source": [
    "X.columns"
   ]
  },
  {
   "cell_type": "code",
   "execution_count": null,
   "id": "bd867bd2",
   "metadata": {},
   "outputs": [],
   "source": []
  },
  {
   "cell_type": "code",
   "execution_count": null,
   "id": "24e18b10",
   "metadata": {},
   "outputs": [],
   "source": []
  }
 ],
 "metadata": {
  "kernelspec": {
   "display_name": "Python 3",
   "language": "python",
   "name": "python3"
  },
  "language_info": {
   "codemirror_mode": {
    "name": "ipython",
    "version": 3
   },
   "file_extension": ".py",
   "mimetype": "text/x-python",
   "name": "python",
   "nbconvert_exporter": "python",
   "pygments_lexer": "ipython3",
   "version": "3.7.1"
  }
 },
 "nbformat": 4,
 "nbformat_minor": 5
}
